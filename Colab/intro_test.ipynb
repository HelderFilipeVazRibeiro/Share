{
  "nbformat": 4,
  "nbformat_minor": 0,
  "metadata": {
    "colab": {
      "provenance": [],
      "authorship_tag": "ABX9TyOZ0etpQ2E9mFZCO1nBFjJL",
      "include_colab_link": true
    },
    "kernelspec": {
      "name": "python3",
      "display_name": "Python 3"
    },
    "language_info": {
      "name": "python"
    }
  },
  "cells": [
    {
      "cell_type": "markdown",
      "metadata": {
        "id": "view-in-github",
        "colab_type": "text"
      },
      "source": [
        "<a href=\"https://colab.research.google.com/github/HelderFilipeVazRibeiro/Colab/blob/main/intro_test.ipynb\" target=\"_parent\"><img src=\"https://colab.research.google.com/assets/colab-badge.svg\" alt=\"Open In Colab\"/></a>"
      ]
    },
    {
      "cell_type": "code",
      "source": [
        "x = int(input(\"Qual é o valor de x: \"))\n",
        "y = int(input(\"Qual é o valor de y: \"))\n",
        "\n",
        "if x >= y:\n",
        "    print(\"O valor é verdadeiro, porque\", x, \"é maior ou igual a\", y)\n",
        "else:\n",
        "    print(\"O valor é falso, porque\", y, \"é maior do que\", x)"
      ],
      "metadata": {
        "colab": {
          "base_uri": "https://localhost:8080/"
        },
        "id": "u6OdAn0xuqG6",
        "outputId": "e1b2c705-12c9-4b25-b5cd-5e7e239ae29e"
      },
      "execution_count": null,
      "outputs": [
        {
          "output_type": "stream",
          "name": "stdout",
          "text": [
            "Qual é o valor de x: 10\n",
            "Qual é o valor de y: 4\n",
            "O valor é verdadeiro, porque 10 é maior ou igual a 4\n"
          ]
        }
      ]
    },
    {
      "cell_type": "code",
      "source": [
        "x = int(input(\"Qual é o valor de x: \"))\n",
        "y = int(input(\"Qual é o valor de y: \"))\n",
        "\n",
        "if x >= y:\n",
        "    print(\"O valor é verdadeiro, porque \" + str(x) + \" é maior ou igual a \" + str(y))\n",
        "else:\n",
        "    print(\"O valor é falso, porque \" + str(y) + \" é maior do que \" + str(x))"
      ],
      "metadata": {
        "colab": {
          "base_uri": "https://localhost:8080/"
        },
        "id": "Z3PLtu-Rt5_J",
        "outputId": "be4de49f-1a38-43c1-c607-b952534bfddb"
      },
      "execution_count": null,
      "outputs": [
        {
          "output_type": "stream",
          "name": "stdout",
          "text": [
            "Qual é o valor de x: 10\n",
            "Qual é o valor de y: 10\n",
            "O valor é verdadeiro, porque 10 é maior ou igual a 10\n"
          ]
        }
      ]
    }
  ]
}