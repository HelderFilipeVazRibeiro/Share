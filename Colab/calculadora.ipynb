{
  "nbformat": 4,
  "nbformat_minor": 0,
  "metadata": {
    "colab": {
      "provenance": [],
      "authorship_tag": "ABX9TyMFmwzFjYs0OzvzgF1761Vl",
      "include_colab_link": true
    },
    "kernelspec": {
      "name": "python3",
      "display_name": "Python 3"
    },
    "language_info": {
      "name": "python"
    }
  },
  "cells": [
    {
      "cell_type": "markdown",
      "metadata": {
        "id": "view-in-github",
        "colab_type": "text"
      },
      "source": [
        "<a href=\"https://colab.research.google.com/github/HelderFilipeVazRibeiro/Colab/blob/main/calculadora.ipynb\" target=\"_parent\"><img src=\"https://colab.research.google.com/assets/colab-badge.svg\" alt=\"Open In Colab\"/></a>"
      ]
    },
    {
      "cell_type": "markdown",
      "source": [
        "Calculadora Original"
      ],
      "metadata": {
        "id": "LQoZOg7YSZAj"
      }
    },
    {
      "cell_type": "code",
      "execution_count": null,
      "metadata": {
        "colab": {
          "base_uri": "https://localhost:8080/"
        },
        "id": "E1zLLEFiYtnz",
        "outputId": "f185ff8c-c714-43da-c992-d9c6067d6747"
      },
      "outputs": [
        {
          "output_type": "stream",
          "name": "stdout",
          "text": [
            "Bem vindo à Calculadora\n",
            "Selecione a operação a executar, digite '+' para somar, '-' para sbtrair, '*' para multiplicar e '/' para dividir\n",
            "Introduza a opção para a operação a executar ('+' para somar, '-' para sbtrair, '*' para multiplicar e '/' para dividir): /\n",
            "Introduza o primeiro valor: 10\n",
            "Introduza o segundo valor: 0\n",
            "errozero\n"
          ]
        }
      ],
      "source": [
        "def soma(num1, num2):\n",
        "  return num1 + num2\n",
        "\n",
        "def sub (num1, num2):\n",
        "  return num1 - num2\n",
        "\n",
        "def mult (num1, num2):\n",
        "  return num1 * num2\n",
        "\n",
        "def div  (num1, num2):\n",
        "  if num2 != 0:\n",
        "    return num1 / num2\n",
        "  else:\n",
        "    raise ZeroDivisionError (\"Não é possível fazer a divisão por 0\")\n",
        "\n",
        "\n",
        "print(\"Bem vindo à Calculadora\")\n",
        "print(\"Selecione a operação a executar, digite '+' para somar, '-' para sbtrair, '*' para multiplicar e '/' para dividir\")\n",
        "\n",
        "operacao = input(\"Introduza a opção para a operação a executar ('+' para somar, '-' para sbtrair, '*' para multiplicar e '/' para dividir): \")\n",
        "\n",
        "try:\n",
        "  num1 = float(input(\"Introduza o primeiro valor: \"))\n",
        "  num2 = float(input(\"Introduza o segundo valor: \"))\n",
        "\n",
        "  #se\n",
        "  if operacao == \"+\":\n",
        "    resultado = soma(num1, num2)\n",
        "    print(f\"O resultado da soma de {num1} + {num2} é: {resultado}\")\n",
        "\n",
        "  #senão se\n",
        "  elif operacao == \"-\":\n",
        "    resultado = sub(num1, num2)\n",
        "    print(f\"O resultado da subtração de {num1} - {num2} é: {resultado}\")\n",
        "\n",
        "  #senão se\n",
        "  elif operacao == \"*\":\n",
        "    resultado = mult(num1, num2)\n",
        "    print(f\"O resultado da subtração de {num1} * {num2} é: {resultado}\")\n",
        "\n",
        "  #senão se\n",
        "  elif operacao == \"/\":\n",
        "    resultado = div(num1, num2)\n",
        "    print(f\"O resultado da subtração de {num1} / {num2} é: {resultado}\")\n",
        "\n",
        "  #senão\n",
        "  else:\n",
        "    print(\"Certifique-se de que escolheu um operador válido\")\n",
        "\n",
        "except ValueError:\n",
        "  print(\"Por favor confirme que introduziu um valor real\")\n",
        "except ZeroDivisionError as errozero:\n",
        "  print(f\"errozero\")"
      ]
    },
    {
      "cell_type": "markdown",
      "source": [
        "**Tarefa 2:**\n",
        "\n",
        "Reutilizando o exemplo da calculadora com as 4 operações:\n",
        "Alterar ou adicionar estas operações: (média – Soma de dois números a dividir por 2,  qual o maior valor dos dois, qual o menor valor dos dois, e a diferença absoluta entre os dois números)"
      ],
      "metadata": {
        "id": "eH7ooXUNOhfn"
      }
    },
    {
      "cell_type": "code",
      "source": [
        "#functions\n",
        "\n",
        "def soma(num1, num2):\n",
        "    return num1 + num2\n",
        "\n",
        "def sub(num1, num2):\n",
        "    return num1 - num2\n",
        "\n",
        "def mult(num1, num2):\n",
        "    return num1 * num2\n",
        "\n",
        "def div(num1, num2):\n",
        "    if num2 != 0:\n",
        "        return num1 / num2\n",
        "    else:\n",
        "        raise ZeroDivisionError(\"Não é possível fazer a divisão por 0\")\n",
        "\n",
        "def media(num1, num2):\n",
        "    return (num1 + num2) / 2\n",
        "\n",
        "def maior_val(num1, num2):\n",
        "   # return max(num1, num2)\n",
        "    if num1 > num2:\n",
        "      return num1\n",
        "    else:\n",
        "      return num2\n",
        "\n",
        "\n",
        "def menor_val(num1, num2):\n",
        "    # return min(num1, num2)\n",
        "    if num1 < num2:\n",
        "      return num1\n",
        "    else:\n",
        "      return num2\n",
        "\n",
        "def dif_absoluta(num1, num2):\n",
        "    if num1 >= num2:\n",
        "        return num1 - num2\n",
        "    else:\n",
        "        return num2 - num1\n",
        "\n",
        "#programa\n",
        "print(\"Bem-vindo à Calculadora\")\n",
        "print(\"Selecione a operação a executar, digite '+' para somar, '-' para subtrair, '*' para multiplicar, '/' para dividir\")\n",
        "\n",
        "operacao = input(\"Introduza a opçao para a operação a executar: \")\n",
        "\n",
        "try:\n",
        "    num1 = float(input(\"Introduza o primeiro valor: \"))\n",
        "    num2 = float(input(\"Introduza o segundo valor: \"))\n",
        "#se\n",
        "    if operacao == \"+\":\n",
        "        resultado = soma(num1, num2)\n",
        "        print(f\"O resultado da soma de {num1} + {num2} é: {resultado}\")\n",
        "#senão se\n",
        "    elif operacao == \"-\":\n",
        "        resultado = sub(num1, num2)\n",
        "        print(f\"O resultado da subtração de {num1} - {num2} é: {resultado}\")\n",
        " #senão se\n",
        "    elif operacao == \"*\":\n",
        "        resultado = mult(num1, num2)\n",
        "        print(f\"O resultado da multiplicação de {num1} * {num2} é: {resultado}\")\n",
        "#senão\n",
        "    elif operacao == \"/\":\n",
        "        resultado = div(num1, num2)\n",
        "        print(f\"O resultado da divisão de {num1} / {num2} é: {resultado}\")\n",
        "\n",
        "# calculos finais\n",
        "    print(f\"A média de {num1} e {num2} é: {round(media(num1, num2),2)}\")\n",
        "    print(f\"O maior valor entre {num1} e {num2} é: {maior_val(num1, num2)}\")\n",
        "    print(f\"O menor valor entre {num1} e {num2} é: {menor_val(num1, num2)}\")\n",
        "    print(f\"A diferença absoluta entre {num1} e {num2} é: {round(dif_absoluta(num1, num2),2)}\")\n",
        "\n",
        "except ValueError:\n",
        "    print(\"Por favor, confirme que introduziu valores numéricos reais.\")\n",
        "except ZeroDivisionError as errozero:\n",
        "    print(errozero)\n"
      ],
      "metadata": {
        "colab": {
          "base_uri": "https://localhost:8080/"
        },
        "id": "TkFw9QnXOeKg",
        "outputId": "6e937a99-4be9-4f09-8256-506f629825ae"
      },
      "execution_count": 25,
      "outputs": [
        {
          "output_type": "stream",
          "name": "stdout",
          "text": [
            "Bem-vindo à Calculadora\n",
            "Selecione a operação a executar, digite '+' para somar, '-' para subtrair, '*' para multiplicar, '/' para dividir\n",
            "Introduza a opçao para a operação a executar: +\n",
            "Introduza o primeiro valor: 5645.56\n",
            "Introduza o segundo valor: 5645.56\n",
            "O resultado da soma de 5645.56 + 5645.56 é: 11291.12\n",
            "A média de 5645.56 e 5645.56 é: 5645.56\n",
            "O maior valor entre 5645.56 e 5645.56 é: 5645.56\n",
            "O menor valor entre 5645.56 e 5645.56 é: 5645.56\n",
            "A diferença absoluta entre 5645.56 e 5645.56 é: 0.0\n"
          ]
        }
      ]
    }
  ]
}