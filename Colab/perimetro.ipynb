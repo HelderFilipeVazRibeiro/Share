{
  "nbformat": 4,
  "nbformat_minor": 0,
  "metadata": {
    "colab": {
      "provenance": [],
      "authorship_tag": "ABX9TyNvn0YxyhaNLOPa85ufylyo",
      "include_colab_link": true
    },
    "kernelspec": {
      "name": "python3",
      "display_name": "Python 3"
    },
    "language_info": {
      "name": "python"
    }
  },
  "cells": [
    {
      "cell_type": "markdown",
      "metadata": {
        "id": "view-in-github",
        "colab_type": "text"
      },
      "source": [
        "<a href=\"https://colab.research.google.com/github/HelderFilipeVazRibeiro/Colab/blob/main/perimetro.ipynb\" target=\"_parent\"><img src=\"https://colab.research.google.com/assets/colab-badge.svg\" alt=\"Open In Colab\"/></a>"
      ]
    },
    {
      "cell_type": "code",
      "execution_count": 2,
      "metadata": {
        "colab": {
          "base_uri": "https://localhost:8080/"
        },
        "id": "LtSq5226Cq7y",
        "outputId": "2e8b5cce-8df3-4df3-a985-171787ae8cd7"
      },
      "outputs": [
        {
          "output_type": "stream",
          "name": "stdout",
          "text": [
            "Defina o comprimento e largura para definir o perímetro du uma determinada área.\n",
            "Casas decimais devem ser representadas com .:\n",
            "Defina o comprimento em metros: 10\n",
            "Defina o comprimento em metros: 10\n",
            "A soma entre o comprimento 10.00m e a largura 10.00m dá o perímetro de 40.00m²\n"
          ]
        }
      ],
      "source": [
        "def perimetro():\n",
        "  try:\n",
        "    print(\"Defina o comprimento e largura para definir o perímetro du uma determinada área.\\nCasas decimais devem ser representadas com .:\")\n",
        "    comp = float(input(\"Defina o comprimento em metros: \"))\n",
        "    larg = float(input(\"Defina o comprimento em metros: \"))\n",
        "    perim = 2 * (comp + larg)\n",
        "    print( f\"A soma entre o comprimento {comp:.2f}m e a largura {larg:.2f}m dá o perímetro de {perim:.2f}m²\")\n",
        "  except ValueError:\n",
        "    print(\"Por favor, certifique-se de que introduziu os valores corretos. Caracteres especiais, texto e virgulas não são reconhecidos.\")\n",
        "\n",
        "perimetro()"
      ]
    },
    {
      "cell_type": "code",
      "source": [
        "def parimpar():\n",
        "  try:\n",
        "    print(\"Colque um número inteiro para saber se é par ou impar:\")\n",
        "    num = int(input(\"Digite um número para saber se é par ou impar: \"))\n",
        "\n",
        "    if par_impar(num):\n",
        "       print( f\"Escolheu o número {num}, este número é PAR!\")\n",
        "    else:\n",
        "       print( f\"Escolheu o número {num}, este número é IMPAR!\")\n",
        "\n",
        "  except ValueError:\n",
        "    print(\"Por favor, certifique-se de que introduziu os valores corretos.\")\n",
        "\n",
        "def par_impar(n):\n",
        "      return n % 2 == 0\n",
        "\n",
        "\n",
        "parimpar()\n",
        "\n"
      ],
      "metadata": {
        "colab": {
          "base_uri": "https://localhost:8080/"
        },
        "id": "8A0Elz56HRlF",
        "outputId": "226085df-dc04-4e9b-be36-22c4788acfbf"
      },
      "execution_count": null,
      "outputs": [
        {
          "output_type": "stream",
          "name": "stdout",
          "text": [
            "Colque um número inteiro para saber se é par ou impar:\n",
            "Digite um número para saber se é par ou impar: 11\n",
            "Escolheu o número 11, este número é IMPAR!\n"
          ]
        }
      ]
    },
    {
      "cell_type": "code",
      "source": [
        "def chapeu():\n",
        "  try:\n",
        "    print(\"Está a chover hoje!\\nTem chapéu de chuva para sair de casa?\\n\")\n",
        "    num = int(input(\"Digite 1 para Sim e 0 para Não: \"))\n",
        "\n",
        "    if 1:\n",
        "       print(\"Então não pode sair de casa!\")\n",
        "    else:\n",
        "       print(\"Então vai trabalhar!\")\n",
        "\n",
        "  except ValueError:\n",
        "    print(\"Por favor, certifique-se de que introduziu os valores corretos.\")\n",
        "\n",
        "chapeu()"
      ],
      "metadata": {
        "colab": {
          "base_uri": "https://localhost:8080/"
        },
        "id": "8que4zjIPp9y",
        "outputId": "0f6d7d22-4cbc-4aa0-c588-ae103b80bf81"
      },
      "execution_count": null,
      "outputs": [
        {
          "output_type": "stream",
          "name": "stdout",
          "text": [
            "Está a chover hoje!\n",
            "Tem chapéu de chuva para sair de casa?\n",
            "\n",
            "Digite 1 para Sim e 0 para Não: 0\n",
            "Então não pode sair de casa!\n"
          ]
        }
      ]
    },
    {
      "cell_type": "code",
      "source": [
        "def chapeu():\n",
        "    try:\n",
        "        print(\"Está a chover hoje?\\n\")\n",
        "        num = input(\"Digite sim ou não: \")\n",
        "\n",
        "        if num.lower() == \"sim\":\n",
        "            print(\"Então não pode sair de casa sem chapéu!\")\n",
        "        else:\n",
        "            print(\"Então vai trabalhar!\")\n",
        "\n",
        "        num2 = input(\"Tem chapéu de chuva para sair de casa?\\n\")\n",
        "\n",
        "        if num2.lower() == \"sim\":\n",
        "            print(\"Então podes ir trabalhar!\")\n",
        "        else:\n",
        "            print(\"Então vai comprar um chapéu de chuva :)\")\n",
        "\n",
        "    except ValueError:\n",
        "        print(\"Por favor, certifique-se de que introduziu os valores corretos.\")\n",
        "\n",
        "chapeu()\n"
      ],
      "metadata": {
        "colab": {
          "base_uri": "https://localhost:8080/"
        },
        "id": "w8dJBV13TNcQ",
        "outputId": "4b389289-7bd6-4226-cf48-8962279aa598"
      },
      "execution_count": null,
      "outputs": [
        {
          "output_type": "stream",
          "name": "stdout",
          "text": [
            "Está a chover hoje?\n",
            "\n",
            "Digite sim ou não: sim\n",
            "Então não pode sair de casa sem chapéu!\n",
            "Tem chapéu de chuva para sair de casa?\n",
            "nao\n",
            "Então vai comprar um cahpeu de chuva :)\n"
          ]
        }
      ]
    }
  ]
}