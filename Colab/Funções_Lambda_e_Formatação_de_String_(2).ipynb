{
  "nbformat": 4,
  "nbformat_minor": 0,
  "metadata": {
    "colab": {
      "provenance": [],
      "include_colab_link": true
    },
    "kernelspec": {
      "name": "python3",
      "display_name": "Python 3"
    },
    "language_info": {
      "name": "python"
    }
  },
  "cells": [
    {
      "cell_type": "markdown",
      "metadata": {
        "id": "view-in-github",
        "colab_type": "text"
      },
      "source": [
        "<a href=\"https://colab.research.google.com/github/HelderFilipeVazRibeiro/Colab/blob/main/Func%CC%A7o%CC%83es_Lambda_e_Formatac%CC%A7a%CC%83o_de_String_(2).ipynb\" target=\"_parent\"><img src=\"https://colab.research.google.com/assets/colab-badge.svg\" alt=\"Open In Colab\"/></a>"
      ]
    },
    {
      "cell_type": "code",
      "execution_count": null,
      "metadata": {
        "id": "tg8p5nOCJ9B4"
      },
      "outputs": [],
      "source": [
        "# Função lambda que formata a idade com um sufixo (a partir dos 2 anos, o programa devolve \"anos\" em vez de \"ano\")\n",
        "formatar_idade = lambda idade: f\"{idade} anos\" if idade > 1 else f\"{idade} ano\"\n",
        "\n",
        "# Função lambda para colocar a primeira letra da cidade em Maiúscula\n",
        "capitalizar_cidade = lambda cidade: cidade.capitalize()\n",
        "\n",
        "# Função lambda para colocar todas as letras do nome em Maiúsculas\n",
        "converter_nome_upper = lambda nome: nome.upper()\n",
        "\n",
        "# Solicitar as informações ao utilizador\n",
        "nome = input(\"Introduza o seu nome: \")\n",
        "idade = int(input(\"Introduza a sua idade: \"))\n",
        "cidade = input(\"Introduza a sua cidade: \")\n",
        "\n",
        "#Formatar a mensagem com o método \".format(variáveis)\" e para o código ficar mais elegante\n",
        "#Colocou-se o código da mensagem em 2 linhas\n",
        "mensagem_formatada = \"Olá, o meu nome é {}, tenho {} e moro em {}.\"\n",
        "mensagem_formatada = mensagem_formatada.format(converter_nome_upper(nome), formatar_idade(idade), capitalizar_cidade(cidade))\n",
        "\n",
        "#Por fim devolve-se a mensagem\n",
        "print(\"E assim a nossa mensagem fica:\")\n",
        "print(mensagem_formatada)\n"
      ]
    }
  ]
}