{
  "nbformat": 4,
  "nbformat_minor": 0,
  "metadata": {
    "colab": {
      "provenance": [],
      "mount_file_id": "1uvTlAiZnW75mooPBBY9jXgoDCdWlzFgo",
      "authorship_tag": "ABX9TyPuAs/I1iUetbSAtUK/JUBO",
      "include_colab_link": true
    },
    "kernelspec": {
      "name": "python3",
      "display_name": "Python 3"
    },
    "language_info": {
      "name": "python"
    }
  },
  "cells": [
    {
      "cell_type": "markdown",
      "metadata": {
        "id": "view-in-github",
        "colab_type": "text"
      },
      "source": [
        "<a href=\"https://colab.research.google.com/github/HelderFilipeVazRibeiro/Colab/blob/main/listas.ipynb\" target=\"_parent\"><img src=\"https://colab.research.google.com/assets/colab-badge.svg\" alt=\"Open In Colab\"/></a>"
      ]
    },
    {
      "cell_type": "markdown",
      "source": [
        "Código Array original"
      ],
      "metadata": {
        "id": "BHARJNoumqo3"
      }
    },
    {
      "cell_type": "code",
      "execution_count": null,
      "metadata": {
        "colab": {
          "base_uri": "https://localhost:8080/"
        },
        "id": "Q4ZvgX8Ox15c",
        "outputId": "97d63c8e-2415-46b5-b315-bd7d3c564397"
      },
      "outputs": [
        {
          "output_type": "stream",
          "name": "stdout",
          "text": [
            "A soma dos  números é: 10\n",
            "A média dos elementos da lista é: 2.5\n"
          ]
        }
      ],
      "source": [
        "#Começar por definir uma lista (Array)\n",
        "\n",
        "numeros = [2,2,2,4] # <---- Aqui temos a nissa lista  com os números pré-definidos;\n",
        "\n",
        "#Na linha abaixo vamos colocar uma instrução para calcular e devolver ao utiliador a soma dos elementos presentes na lista;\n",
        "soma = sum(numeros)\n",
        "print(\"A soma dos  números é:\", soma)\n",
        "\n",
        "# Na linha abaixo instrução para calculas a média dos números\n",
        "media = soma/len(numeros)\n",
        "print(f\"A média dos elementos da lista é: {media}\")"
      ]
    },
    {
      "cell_type": "markdown",
      "source": [
        "**Exercicio 2:**\n",
        "\n",
        "Reutilizando o exemplo da lista, recriando uma lista nova(diferente da do exemplo) deverá adicionar as seguintes funcionalidades:\n",
        "Indicar qual o maior número presente na lista, qual o menor número presente na lista, Iterar a lista(Precorrer todos os elementos da lista e devolve-los ao utilizador), e indicar na lista, quais dos números são pares(um número é par caso a sua divisão por 2 não deixe resto de 0)"
      ],
      "metadata": {
        "id": "n_4NiQB3m0p5"
      }
    },
    {
      "cell_type": "code",
      "source": [
        "def soma():\n",
        "  return sum(numeros)\n",
        "\n",
        "\n",
        "def media():\n",
        "  return soma/len(numeros)\n",
        "\n",
        "\n",
        "\n",
        "def maior_num():\n",
        "  return max(numeros)\n",
        "\n",
        "\n",
        "numeros = [23,34,187,286,466]\n",
        "print(f\"Os números existentes na Array são:{numeros}\")\n",
        "print(f\"A soma dos  números é: {soma}\")\n",
        "print(f\"A média dos elementos da lista é: {media}\")\n"
      ],
      "metadata": {
        "colab": {
          "base_uri": "https://localhost:8080/"
        },
        "id": "m7_lq_rWm59L",
        "outputId": "efbe01a1-9b7c-4e3e-e5e8-fa99a947ec01"
      },
      "execution_count": null,
      "outputs": [
        {
          "output_type": "stream",
          "name": "stdout",
          "text": [
            "Os números existentes na Array são:[23, 34, 187, 286, 466]\n",
            "A soma dos  números é: <function soma at 0x7feb31a65fc0>\n",
            "A média dos elementos da lista é: <function media at 0x7feb03b32200>\n"
          ]
        }
      ]
    },
    {
      "cell_type": "code",
      "source": [
        "#functions\n",
        "def soma(numeros):\n",
        "    return sum(numeros)\n",
        "\n",
        "def media(numeros):\n",
        "    return soma(numeros)/len(numeros)\n",
        "\n",
        "def maior_num(numeros):\n",
        "    return max(numeros)\n",
        "\n",
        "def menor_num(numeros):\n",
        "    return min(numeros)\n",
        "\n",
        "def iterar_lista(numeros): #lista os valores da lista\n",
        "    for num in numeros:\n",
        "        print(num)\n",
        "\n",
        "def num_pares(numeros):\n",
        "    pares = [num for num in numeros if num % 2 == 0]\n",
        "    return pares\n",
        "\n",
        "numeros = [23, 34, 187, 286, 466]\n",
        "\n",
        "print(f\"Os números existentes na Array são: {numeros}\")\n",
        "print(f\"A soma dos números é: {soma(numeros)}\")\n",
        "print(f\"A média dos elementos da lista é: {media(numeros)}\")\n",
        "print(f\"O maior número na lista é: {maior_num(numeros)}\")\n",
        "print(f\"O menor número na lista é: {menor_num(numeros)}\")\n",
        "print(\"*****************************************************\")\n",
        "print(f\"Iterando pela lista:\")\n",
        "iterar_lista(numeros)\n",
        "print(\"*****************************************************\")\n",
        "\n",
        "pares=num_pares(numeros)\n",
        "print(\"Números Pares da Array são:\")\n",
        "print(f\"Os valores pares da array sao: {pares}\")"
      ],
      "metadata": {
        "colab": {
          "base_uri": "https://localhost:8080/"
        },
        "id": "P77zCU_l3BpL",
        "outputId": "7363b6f5-6359-4c0d-a521-9004e3e80010"
      },
      "execution_count": null,
      "outputs": [
        {
          "output_type": "stream",
          "name": "stdout",
          "text": [
            "Os números existentes na Array são: [23, 34, 187, 286, 466]\n",
            "A soma dos números é: 996\n",
            "A média dos elementos da lista é: 199.2\n",
            "O maior número na lista é: 466\n",
            "O menor número na lista é: 23\n",
            "*****************************************************\n",
            "Iterando pela lista:\n",
            "23\n",
            "34\n",
            "187\n",
            "286\n",
            "466\n",
            "*****************************************************\n",
            "Números Pares da Array são:\n",
            "Os valores pares da array sao: [34, 286, 466]\n"
          ]
        }
      ]
    }
  ]
}