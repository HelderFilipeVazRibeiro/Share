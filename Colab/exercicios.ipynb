{
  "cells": [
    {
      "cell_type": "markdown",
      "metadata": {
        "colab_type": "text",
        "id": "view-in-github"
      },
      "source": [
        "<a href=\"https://colab.research.google.com/github/HelderFilipeVazRibeiro/Colab/blob/main/perimetro.ipynb\" target=\"_parent\"><img src=\"https://colab.research.google.com/assets/colab-badge.svg\" alt=\"Open In Colab\"/></a>"
      ]
    },
    {
      "cell_type": "code",
      "execution_count": 20,
      "metadata": {
        "colab": {
          "base_uri": "https://localhost:8080/"
        },
        "id": "LtSq5226Cq7y",
        "outputId": "112402d3-6b4f-416c-b06a-65dd0b026d7d"
      },
      "outputs": [
        {
          "name": "stdout",
          "output_type": "stream",
          "text": [
            "Defina o comprimento e largura para definir o perímetro du uma determinada área.\n",
            "Casas decimais devem ser representadas com .:\n",
            "Defina o comprimento em metros: 10.50\n",
            "Defina o comprimento em metros: 10.65\n",
            "A soma entre o comprimento 10.50m e a largura 10.65m dá o perímetro de 111.83m²\n"
          ]
        }
      ],
      "source": [
        "def perimetro():\n",
        "  try:\n",
        "    print(\"Defina o comprimento e largura para definir o perímetro du uma determinada área.\\nCasas decimais devem ser representadas com .:\")\n",
        "    comp = float(input(\"Defina o comprimento em metros: \"))\n",
        "    larg = float(input(\"Defina o comprimento em metros: \"))\n",
        "    perim = comp * larg\n",
        "    print( f\"A soma entre o comprimento {comp:.2f}m e a largura {larg:.2f}m dá o perímetro de {perim:.2f}m²\")\n",
        "  except ValueError:\n",
        "    print(\"Por favor, certifique-se de que introduziu os valores corretos. Caracteres especiais, texto e virgulas não são reconhecidos.\")\n",
        "\n",
        "perimetro()"
      ]
    },
    {
      "cell_type": "code",
      "execution_count": 34,
      "metadata": {
        "colab": {
          "base_uri": "https://localhost:8080/"
        },
        "id": "8A0Elz56HRlF",
        "outputId": "226085df-dc04-4e9b-be36-22c4788acfbf"
      },
      "outputs": [
        {
          "name": "stdout",
          "output_type": "stream",
          "text": [
            "Colque um número inteiro para saber se é par ou impar:\n",
            "Digite um número para saber se é par ou impar: 11\n",
            "Escolheu o número 11, este número é IMPAR!\n"
          ]
        }
      ],
      "source": [
        "def parimpar():\n",
        "  try:\n",
        "    print(\"Colque um número inteiro para saber se é par ou impar:\")\n",
        "    num = int(input(\"Digite um número para saber se é par ou impar: \"))\n",
        "\n",
        "    if par_impar(num):\n",
        "       print( f\"Escolheu o número {num}, este número é PAR!\")\n",
        "    else:\n",
        "       print( f\"Escolheu o número {num}, este número é IMPAR!\")\n",
        "\n",
        "  except ValueError:\n",
        "    print(\"Por favor, certifique-se de que introduziu os valores corretos.\")\n",
        "\n",
        "def par_impar(n):\n",
        "      return n % 2 == 0\n",
        "\n",
        "\n",
        "parimpar()\n",
        "\n"
      ]
    },
    {
      "cell_type": "code",
      "execution_count": 37,
      "metadata": {
        "colab": {
          "base_uri": "https://localhost:8080/"
        },
        "id": "8que4zjIPp9y",
        "outputId": "0f6d7d22-4cbc-4aa0-c588-ae103b80bf81"
      },
      "outputs": [
        {
          "name": "stdout",
          "output_type": "stream",
          "text": [
            "Está a chover hoje!\n",
            "Tem chapéu de chuva para sair de casa?\n",
            "\n",
            "Digite 1 para Sim e 0 para Não: 0\n",
            "Então não pode sair de casa!\n"
          ]
        }
      ],
      "source": [
        "def chapeu():\n",
        "  try:\n",
        "    print(\"Está a chover hoje!\\nTem chapéu de chuva para sair de casa?\\n\")\n",
        "    num = int(input(\"Digite 1 para Sim e 0 para Não: \"))\n",
        "\n",
        "    if 1:\n",
        "       print(\"Então não pode sair de casa!\")\n",
        "    else:\n",
        "       print(\"Então vai trabalhar!\")\n",
        "\n",
        "  except ValueError:\n",
        "    print(\"Por favor, certifique-se de que introduziu os valores corretos.\")\n",
        "\n",
        "chapeu()"
      ]
    },
    {
      "cell_type": "code",
      "execution_count": 39,
      "metadata": {
        "colab": {
          "base_uri": "https://localhost:8080/"
        },
        "id": "w8dJBV13TNcQ",
        "outputId": "4b389289-7bd6-4226-cf48-8962279aa598"
      },
      "outputs": [
        {
          "name": "stdout",
          "output_type": "stream",
          "text": [
            "Está a chover hoje?\n",
            "\n",
            "Digite sim ou não: sim\n",
            "Então não pode sair de casa sem chapéu!\n",
            "Tem chapéu de chuva para sair de casa?\n",
            "nao\n",
            "Então vai comprar um cahpeu de chuva :)\n"
          ]
        }
      ],
      "source": [
        "def chapeu():\n",
        "    try:\n",
        "        print(\"Está a chover hoje?\\n\")\n",
        "        num = input(\"Digite sim ou não: \")\n",
        "\n",
        "        if num.lower() == \"sim\":\n",
        "            print(\"Então não pode sair de casa sem chapéu!\")\n",
        "        else:\n",
        "            print(\"Então vai trabalhar!\")\n",
        "\n",
        "        num2 = input(\"Tem chapéu de chuva para sair de casa?\\nDigite sim ou não:\\n\")\n",
        "\n",
        "        if num2.lower() == \"sim\":\n",
        "            print(\"Então podes ir trabalhar!\")\n",
        "        else:\n",
        "            print(\"Então vai comprar um chapéu de chuva :)\")\n",
        "\n",
        "    except ValueError:\n",
        "        print(\"Por favor, certifique-se de que introduziu os valores corretos.\")\n",
        "\n",
        "chapeu()\n"
      ]
    }
  ],
  "metadata": {
    "colab": {
      "authorship_tag": "ABX9TyMb0sldjL1wRsh3WH9CZa4b",
      "include_colab_link": true,
      "provenance": []
    },
    "kernelspec": {
      "display_name": "Python 3",
      "name": "python3"
    },
    "language_info": {
      "name": "python"
    }
  },
  "nbformat": 4,
  "nbformat_minor": 0
}
