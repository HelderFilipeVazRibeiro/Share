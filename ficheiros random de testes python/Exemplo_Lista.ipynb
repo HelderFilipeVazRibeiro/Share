{
  "nbformat": 4,
  "nbformat_minor": 0,
  "metadata": {
    "colab": {
      "provenance": []
    },
    "kernelspec": {
      "name": "python3",
      "display_name": "Python 3"
    },
    "language_info": {
      "name": "python"
    }
  },
  "cells": [
    {
      "cell_type": "code",
      "execution_count": 5,
      "metadata": {
        "colab": {
          "base_uri": "https://localhost:8080/"
        },
        "id": "BRVFJtUtw7X1",
        "outputId": "585ec812-08f4-4ceb-c71c-95f20ee00c09"
      },
      "outputs": [
        {
          "output_type": "stream",
          "name": "stdout",
          "text": [
            "A soma dos números é 4\n",
            "A média dos elementos da lista é 2.0\n"
          ]
        }
      ],
      "source": [
        "#Vamos começar por definir uma lista (Array)\n",
        "numeros = [2, 2, 2, 4] #aqui temos a nossa lista com os números pré-definidos\n",
        "\n",
        "#Na linha de baixo vamos colocar uma instrução para calcular e devolver ao utilizador o sumatório dos elementos(números) presentes na lista\n",
        "soma = sum(numeros)\n",
        "print(\"A soma dos números é\", soma)\n",
        "\n",
        "#Na linha abaixo vamos colocar uma instrução para calcular e devolver ao utilizador a média dos elementos(números) presentes na lista\n",
        "media = soma / len(numeros)\n",
        "print(\"A média dos elementos da lista é\", media)"
      ]
    },
    {
      "cell_type": "code",
      "source": [],
      "metadata": {
        "id": "iUEH3hKz0svY"
      },
      "execution_count": null,
      "outputs": []
    }
  ]
}