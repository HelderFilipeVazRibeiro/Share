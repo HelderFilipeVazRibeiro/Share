{
  "cells": [
    {
      "cell_type": "code",
      "execution_count": 2,
      "metadata": {
        "colab": {
          "base_uri": "https://localhost:8080/"
        },
        "id": "2rFoVH26T6xc",
        "outputId": "03bfba85-25fd-497a-ddd2-b859768058c7"
      },
      "outputs": [
        {
          "name": "stdout",
          "output_type": "stream",
          "text": [
            "Digite o valor a adiconar à lista(certifique-se de que se trata de um número real positivo):5\n",
            "Digite o valor a adiconar à lista(certifique-se de que se trata de um número real positivo):7\n",
            "Digite o valor a adiconar à lista(certifique-se de que se trata de um número real positivo):45\n",
            "Digite o valor a adiconar à lista(certifique-se de que se trata de um número real positivo):6\n",
            "Digite o valor a adiconar à lista(certifique-se de que se trata de um número real positivo):8\n",
            "O valor da soma dos números da lista é: 71.0\n",
            "O valor da média dos números da lista é: 14.2\n",
            "O maior número presente na lista é: 45.0\n",
            "O menor número presente na lista é: 5.0\n",
            "Itens presentes na lista:\n",
            "5.0\n",
            "7.0\n",
            "45.0\n",
            "6.0\n",
            "8.0\n",
            "A lista contém os seguintes números pares: [6.0, 8.0]\n",
            "A lista tem um limite de 5(espaços na lista), pelo que a lista ficou concluída e os cálculos foram feitos\n"
          ]
        }
      ],
      "source": [
        "numeros = [] #aqui criamos a lista que o programa vai guardar mediante os valores introduzidos pelo utilizador\n",
        "limite = 20\n",
        "\n",
        "while len(numeros) < limite:\n",
        "  try:\n",
        "    num = float(input(\"Digite o valor a adiconar à lista(certifique-se de que se trata de um número real positivo):\"))#aqui estamos a soliticar ao utilizador para introduzir o valor a adicionar à lista\n",
        "    if num < 0:#aqui estamos a definir a exceção de que se o valor for negativo o programa terá que parar através do comando \"break\", e que no caso deste exemplo ainda não ter o menu funcional, é a forma de se prosseguir com o programa\n",
        "      break\n",
        "    numeros.append(num)#aqui estamos a adicionar, caso seja um valor correto, os números à lista\n",
        "  except ValueError:\n",
        "    print(\"Por favor, certifique-se de que introduziu um valor correto\")\n",
        "\n",
        "if not numeros:#aqui estamos a definir a mensagem a devolver ao utilizador caso a lista se encontre vazia (sem nenhum valor válido)\n",
        "  print(\"A lista encontra-se vazia, por favor certifique-se de que adicionou pelo menos um número\")\n",
        "else:\n",
        "  soma = sum(numeros)#aqui efetuamos a soma de todos os valores introduzidos na lista através do operador \"sum\"\n",
        "  media = soma / len(numeros)\n",
        "  maior_numero = max(numeros)\n",
        "  menor_numero = min(numeros)\n",
        "\n",
        "  print(f\"O valor da soma dos números da lista é: {soma}\")#aqui devolvemos ao utilizador o valor da soma de todos os números da lista\n",
        "  print(f\"O valor da média dos números da lista é: {media}\")#aqui devolvemos so utilizador o valor da média de todos os números da lista\n",
        "  print(f\"O maior número presente na lista é: {maior_numero}\")\n",
        "  print(f\"O menor número presente na lista é: {menor_numero}\")\n",
        "\n",
        "  #Aqui vamos adicionar o comando para iterar(listar) os items que a lista contém\n",
        "  print(\"Itens presentes na lista:\")#aqui estamos a definir a mensagem que vai aparecer quando queremos listar os itens da lista\n",
        "  for numero in numeros: #aqui iniciamos o ciclo em 'loop' for, que vai ler desde o primeiro item até chegar ao último, dentro da lista, e que neste caso determinamos como \"número\"\n",
        "    print(numero) #aqui imprimimos/devolvemos ao utilizador os itens presentes na lista\n",
        "\n",
        "  #aqui estamos a definir a função para indicar os números pares presentes na lista\n",
        "  numeros_pares = [num for num in numeros if num % 2 == 0] #aqui definimos a declaração matemática(divisão por 2 tem que ter o resto 0) para criar uma variável que vai verificar se os números presentes na lista são pares ou não\n",
        "  if numeros_pares:\n",
        "    print(f\"A lista contém os seguintes números pares: {numeros_pares}\")\n",
        "  else:\n",
        "    print(\"A lista não contém nenhum número par\")\n",
        "\n",
        "if len(numeros) == limite:\n",
        "  print(f\"A lista tem um limite de {limite}(espaços na lista), pelo que a lista ficou concluída e os cálculos foram feitos\")"
      ]
    }
  ],
  "metadata": {
    "colab": {
      "provenance": []
    },
    "kernelspec": {
      "display_name": "Python 3",
      "name": "python3"
    },
    "language_info": {
      "name": "python"
    }
  },
  "nbformat": 4,
  "nbformat_minor": 0
}
